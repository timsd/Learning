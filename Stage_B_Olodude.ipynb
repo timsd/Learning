{
  "nbformat": 4,
  "nbformat_minor": 0,
  "metadata": {
    "colab": {
      "name": "Stage B Olodude.ipynb",
      "provenance": [],
      "authorship_tag": "ABX9TyMD6d75KfolBmm2DEYr3wQn",
      "include_colab_link": true
    },
    "kernelspec": {
      "name": "python3",
      "display_name": "Python 3"
    }
  },
  "cells": [
    {
      "cell_type": "markdown",
      "metadata": {
        "id": "view-in-github",
        "colab_type": "text"
      },
      "source": [
        "<a href=\"https://colab.research.google.com/github/timsd/Learning/blob/master/Stage_B_Olodude.ipynb\" target=\"_parent\"><img src=\"https://colab.research.google.com/assets/colab-badge.svg\" alt=\"Open In Colab\"/></a>"
      ]
    },
    {
      "cell_type": "code",
      "metadata": {
        "id": "IuoVr3DKQQR3",
        "colab_type": "code",
        "colab": {}
      },
      "source": [
        "import numpy as np \n",
        "import matplotlib.pyplot as plt  \n",
        "import matplotlib.gridspec as gridspec\n",
        "import seaborn as sns \n",
        "import pandas as pd"
      ],
      "execution_count": 29,
      "outputs": []
    },
    {
      "cell_type": "code",
      "metadata": {
        "id": "ahME4FVGfMQ6",
        "colab_type": "code",
        "colab": {}
      },
      "source": [
        "from scipy.sparse import csr_matrix    \n",
        "%matplotlib inline"
      ],
      "execution_count": 9,
      "outputs": []
    },
    {
      "cell_type": "code",
      "metadata": {
        "id": "TV_FqDoEpGb9",
        "colab_type": "code",
        "colab": {
          "base_uri": "https://localhost:8080/",
          "height": 34
        },
        "outputId": "66fa0090-e428-4a86-aa2d-9b08c526b1fc"
      },
      "source": [
        "sns.despine() \n",
        "plt.rc('figure', figsize=(20,10)) \n"
      ],
      "execution_count": 5,
      "outputs": [
        {
          "output_type": "display_data",
          "data": {
            "text/plain": [
              "<Figure size 1440x720 with 0 Axes>"
            ]
          },
          "metadata": {
            "tags": []
          }
        }
      ]
    },
    {
      "cell_type": "code",
      "metadata": {
        "id": "BaKDEFLbf6U5",
        "colab_type": "code",
        "colab": {
          "base_uri": "https://localhost:8080/",
          "height": 204
        },
        "outputId": "cf7bbca9-2cbd-4a7c-a8a8-a8ef425f5126"
      },
      "source": [
        "df = pd.read_excel('https://archive.ics.uci.edu/ml/machine-learning-databases/00242/ENB2012_data.xlsx')\n",
        "df.head()"
      ],
      "execution_count": 30,
      "outputs": [
        {
          "output_type": "execute_result",
          "data": {
            "text/html": [
              "<div>\n",
              "<style scoped>\n",
              "    .dataframe tbody tr th:only-of-type {\n",
              "        vertical-align: middle;\n",
              "    }\n",
              "\n",
              "    .dataframe tbody tr th {\n",
              "        vertical-align: top;\n",
              "    }\n",
              "\n",
              "    .dataframe thead th {\n",
              "        text-align: right;\n",
              "    }\n",
              "</style>\n",
              "<table border=\"1\" class=\"dataframe\">\n",
              "  <thead>\n",
              "    <tr style=\"text-align: right;\">\n",
              "      <th></th>\n",
              "      <th>X1</th>\n",
              "      <th>X2</th>\n",
              "      <th>X3</th>\n",
              "      <th>X4</th>\n",
              "      <th>X5</th>\n",
              "      <th>X6</th>\n",
              "      <th>X7</th>\n",
              "      <th>X8</th>\n",
              "      <th>Y1</th>\n",
              "      <th>Y2</th>\n",
              "    </tr>\n",
              "  </thead>\n",
              "  <tbody>\n",
              "    <tr>\n",
              "      <th>0</th>\n",
              "      <td>0.98</td>\n",
              "      <td>514.5</td>\n",
              "      <td>294.0</td>\n",
              "      <td>110.25</td>\n",
              "      <td>7.0</td>\n",
              "      <td>2</td>\n",
              "      <td>0.0</td>\n",
              "      <td>0</td>\n",
              "      <td>15.55</td>\n",
              "      <td>21.33</td>\n",
              "    </tr>\n",
              "    <tr>\n",
              "      <th>1</th>\n",
              "      <td>0.98</td>\n",
              "      <td>514.5</td>\n",
              "      <td>294.0</td>\n",
              "      <td>110.25</td>\n",
              "      <td>7.0</td>\n",
              "      <td>3</td>\n",
              "      <td>0.0</td>\n",
              "      <td>0</td>\n",
              "      <td>15.55</td>\n",
              "      <td>21.33</td>\n",
              "    </tr>\n",
              "    <tr>\n",
              "      <th>2</th>\n",
              "      <td>0.98</td>\n",
              "      <td>514.5</td>\n",
              "      <td>294.0</td>\n",
              "      <td>110.25</td>\n",
              "      <td>7.0</td>\n",
              "      <td>4</td>\n",
              "      <td>0.0</td>\n",
              "      <td>0</td>\n",
              "      <td>15.55</td>\n",
              "      <td>21.33</td>\n",
              "    </tr>\n",
              "    <tr>\n",
              "      <th>3</th>\n",
              "      <td>0.98</td>\n",
              "      <td>514.5</td>\n",
              "      <td>294.0</td>\n",
              "      <td>110.25</td>\n",
              "      <td>7.0</td>\n",
              "      <td>5</td>\n",
              "      <td>0.0</td>\n",
              "      <td>0</td>\n",
              "      <td>15.55</td>\n",
              "      <td>21.33</td>\n",
              "    </tr>\n",
              "    <tr>\n",
              "      <th>4</th>\n",
              "      <td>0.90</td>\n",
              "      <td>563.5</td>\n",
              "      <td>318.5</td>\n",
              "      <td>122.50</td>\n",
              "      <td>7.0</td>\n",
              "      <td>2</td>\n",
              "      <td>0.0</td>\n",
              "      <td>0</td>\n",
              "      <td>20.84</td>\n",
              "      <td>28.28</td>\n",
              "    </tr>\n",
              "  </tbody>\n",
              "</table>\n",
              "</div>"
            ],
            "text/plain": [
              "     X1     X2     X3      X4   X5  X6   X7  X8     Y1     Y2\n",
              "0  0.98  514.5  294.0  110.25  7.0   2  0.0   0  15.55  21.33\n",
              "1  0.98  514.5  294.0  110.25  7.0   3  0.0   0  15.55  21.33\n",
              "2  0.98  514.5  294.0  110.25  7.0   4  0.0   0  15.55  21.33\n",
              "3  0.98  514.5  294.0  110.25  7.0   5  0.0   0  15.55  21.33\n",
              "4  0.90  563.5  318.5  122.50  7.0   2  0.0   0  20.84  28.28"
            ]
          },
          "metadata": {
            "tags": []
          },
          "execution_count": 30
        }
      ]
    },
    {
      "cell_type": "code",
      "metadata": {
        "id": "Xqg7vgVaXVpI",
        "colab_type": "code",
        "colab": {}
      },
      "source": [
        "column_names   =   { 'X1' : 'Relative_Compactness' ,   \n",
        "                     'X2' :    'Surface_Area' ,                    \n",
        "                     'X3' :     'Wall_Area' ,    \n",
        "                     'X4' :    'Roof_Area' ,    \n",
        "                     'X5' :    'Overall_Height' ,                \n",
        "                     'X6' :    'Orientation' ,    \n",
        "                     'X7' :    'Glazing_Area' ,                \n",
        "                     'X8' :    'Glazing_Area_Distribution' ,                   \n",
        "                     'Y1' :    'Heating_Load' ,'Y2' :    'Cooling_Load' } "
      ],
      "execution_count": 33,
      "outputs": []
    },
    {
      "cell_type": "code",
      "metadata": {
        "id": "u-ReylWzYzrU",
        "colab_type": "code",
        "colab": {
          "base_uri": "https://localhost:8080/",
          "height": 317
        },
        "outputId": "3a030ee8-a3c3-473a-fdcb-19167ec50235"
      },
      "source": [
        "df = df.rename(columns=column_names) \n",
        "df.describe(include='all')"
      ],
      "execution_count": 34,
      "outputs": [
        {
          "output_type": "execute_result",
          "data": {
            "text/html": [
              "<div>\n",
              "<style scoped>\n",
              "    .dataframe tbody tr th:only-of-type {\n",
              "        vertical-align: middle;\n",
              "    }\n",
              "\n",
              "    .dataframe tbody tr th {\n",
              "        vertical-align: top;\n",
              "    }\n",
              "\n",
              "    .dataframe thead th {\n",
              "        text-align: right;\n",
              "    }\n",
              "</style>\n",
              "<table border=\"1\" class=\"dataframe\">\n",
              "  <thead>\n",
              "    <tr style=\"text-align: right;\">\n",
              "      <th></th>\n",
              "      <th>Relative_Compactness</th>\n",
              "      <th>Surface_Area</th>\n",
              "      <th>Wall_Area</th>\n",
              "      <th>Roof_Area</th>\n",
              "      <th>Overall_Height</th>\n",
              "      <th>Orientation</th>\n",
              "      <th>Glazing_Area</th>\n",
              "      <th>Glazing_Area_Distribution</th>\n",
              "      <th>Heating_Load</th>\n",
              "      <th>Cooling_Load</th>\n",
              "    </tr>\n",
              "  </thead>\n",
              "  <tbody>\n",
              "    <tr>\n",
              "      <th>count</th>\n",
              "      <td>768.000000</td>\n",
              "      <td>768.000000</td>\n",
              "      <td>768.000000</td>\n",
              "      <td>768.000000</td>\n",
              "      <td>768.00000</td>\n",
              "      <td>768.000000</td>\n",
              "      <td>768.000000</td>\n",
              "      <td>768.00000</td>\n",
              "      <td>768.000000</td>\n",
              "      <td>768.000000</td>\n",
              "    </tr>\n",
              "    <tr>\n",
              "      <th>mean</th>\n",
              "      <td>0.764167</td>\n",
              "      <td>671.708333</td>\n",
              "      <td>318.500000</td>\n",
              "      <td>176.604167</td>\n",
              "      <td>5.25000</td>\n",
              "      <td>3.500000</td>\n",
              "      <td>0.234375</td>\n",
              "      <td>2.81250</td>\n",
              "      <td>22.307195</td>\n",
              "      <td>24.587760</td>\n",
              "    </tr>\n",
              "    <tr>\n",
              "      <th>std</th>\n",
              "      <td>0.105777</td>\n",
              "      <td>88.086116</td>\n",
              "      <td>43.626481</td>\n",
              "      <td>45.165950</td>\n",
              "      <td>1.75114</td>\n",
              "      <td>1.118763</td>\n",
              "      <td>0.133221</td>\n",
              "      <td>1.55096</td>\n",
              "      <td>10.090204</td>\n",
              "      <td>9.513306</td>\n",
              "    </tr>\n",
              "    <tr>\n",
              "      <th>min</th>\n",
              "      <td>0.620000</td>\n",
              "      <td>514.500000</td>\n",
              "      <td>245.000000</td>\n",
              "      <td>110.250000</td>\n",
              "      <td>3.50000</td>\n",
              "      <td>2.000000</td>\n",
              "      <td>0.000000</td>\n",
              "      <td>0.00000</td>\n",
              "      <td>6.010000</td>\n",
              "      <td>10.900000</td>\n",
              "    </tr>\n",
              "    <tr>\n",
              "      <th>25%</th>\n",
              "      <td>0.682500</td>\n",
              "      <td>606.375000</td>\n",
              "      <td>294.000000</td>\n",
              "      <td>140.875000</td>\n",
              "      <td>3.50000</td>\n",
              "      <td>2.750000</td>\n",
              "      <td>0.100000</td>\n",
              "      <td>1.75000</td>\n",
              "      <td>12.992500</td>\n",
              "      <td>15.620000</td>\n",
              "    </tr>\n",
              "    <tr>\n",
              "      <th>50%</th>\n",
              "      <td>0.750000</td>\n",
              "      <td>673.750000</td>\n",
              "      <td>318.500000</td>\n",
              "      <td>183.750000</td>\n",
              "      <td>5.25000</td>\n",
              "      <td>3.500000</td>\n",
              "      <td>0.250000</td>\n",
              "      <td>3.00000</td>\n",
              "      <td>18.950000</td>\n",
              "      <td>22.080000</td>\n",
              "    </tr>\n",
              "    <tr>\n",
              "      <th>75%</th>\n",
              "      <td>0.830000</td>\n",
              "      <td>741.125000</td>\n",
              "      <td>343.000000</td>\n",
              "      <td>220.500000</td>\n",
              "      <td>7.00000</td>\n",
              "      <td>4.250000</td>\n",
              "      <td>0.400000</td>\n",
              "      <td>4.00000</td>\n",
              "      <td>31.667500</td>\n",
              "      <td>33.132500</td>\n",
              "    </tr>\n",
              "    <tr>\n",
              "      <th>max</th>\n",
              "      <td>0.980000</td>\n",
              "      <td>808.500000</td>\n",
              "      <td>416.500000</td>\n",
              "      <td>220.500000</td>\n",
              "      <td>7.00000</td>\n",
              "      <td>5.000000</td>\n",
              "      <td>0.400000</td>\n",
              "      <td>5.00000</td>\n",
              "      <td>43.100000</td>\n",
              "      <td>48.030000</td>\n",
              "    </tr>\n",
              "  </tbody>\n",
              "</table>\n",
              "</div>"
            ],
            "text/plain": [
              "       Relative_Compactness  Surface_Area  ...  Heating_Load  Cooling_Load\n",
              "count            768.000000    768.000000  ...    768.000000    768.000000\n",
              "mean               0.764167    671.708333  ...     22.307195     24.587760\n",
              "std                0.105777     88.086116  ...     10.090204      9.513306\n",
              "min                0.620000    514.500000  ...      6.010000     10.900000\n",
              "25%                0.682500    606.375000  ...     12.992500     15.620000\n",
              "50%                0.750000    673.750000  ...     18.950000     22.080000\n",
              "75%                0.830000    741.125000  ...     31.667500     33.132500\n",
              "max                0.980000    808.500000  ...     43.100000     48.030000\n",
              "\n",
              "[8 rows x 10 columns]"
            ]
          },
          "metadata": {
            "tags": []
          },
          "execution_count": 34
        }
      ]
    },
    {
      "cell_type": "code",
      "metadata": {
        "id": "uRTtCMU6YTan",
        "colab_type": "code",
        "colab": {}
      },
      "source": [
        "simple_linear_reg_df = df[['Relative_Compactness','Heating_Load']].sample(15, random_state=2)"
      ],
      "execution_count": 36,
      "outputs": []
    },
    {
      "cell_type": "code",
      "metadata": {
        "id": "4c2rT6eMZblu",
        "colab_type": "code",
        "colab": {
          "base_uri": "https://localhost:8080/",
          "height": 187
        },
        "outputId": "ce09337f-d0a2-4fc5-a49d-537ede18567e"
      },
      "source": [
        "spr =(df.corr()[\"Heating_Load\"].sort_values(ascending = False)[1:10]) \n",
        "print(spr) "
      ],
      "execution_count": 39,
      "outputs": [
        {
          "output_type": "stream",
          "text": [
            "Cooling_Load                 0.975862\n",
            "Overall_Height               0.889430\n",
            "Relative_Compactness         0.622272\n",
            "Wall_Area                    0.455671\n",
            "Glazing_Area                 0.269842\n",
            "Glazing_Area_Distribution    0.087368\n",
            "Orientation                 -0.002587\n",
            "Surface_Area                -0.658120\n",
            "Roof_Area                   -0.861828\n",
            "Name: Heating_Load, dtype: float64\n"
          ],
          "name": "stdout"
        }
      ]
    },
    {
      "cell_type": "code",
      "metadata": {
        "id": "k3XoOawbYmEF",
        "colab_type": "code",
        "colab": {}
      },
      "source": [
        "from sklearn.datasets import make_regression \n",
        "from matplotlib import pyplot "
      ],
      "execution_count": 40,
      "outputs": []
    },
    {
      "cell_type": "code",
      "metadata": {
        "id": "6YIOvOfMZ4tl",
        "colab_type": "code",
        "colab": {}
      },
      "source": [
        "Xb,yb = make_regression(n_samples=768, n_features=8, noise=10,random_state=1)"
      ],
      "execution_count": 41,
      "outputs": []
    },
    {
      "cell_type": "code",
      "metadata": {
        "id": "5YbegPwMZ9dU",
        "colab_type": "code",
        "colab": {
          "base_uri": "https://localhost:8080/",
          "height": 204
        },
        "outputId": "df22bfe9-e27a-4ae6-eab2-0cac30d6f1c2"
      },
      "source": [
        "df5=pd.DataFrame(Xb,yb) \n",
        "df5.reset_index() \n",
        "df5.head()\n"
      ],
      "execution_count": 42,
      "outputs": [
        {
          "output_type": "execute_result",
          "data": {
            "text/html": [
              "<div>\n",
              "<style scoped>\n",
              "    .dataframe tbody tr th:only-of-type {\n",
              "        vertical-align: middle;\n",
              "    }\n",
              "\n",
              "    .dataframe tbody tr th {\n",
              "        vertical-align: top;\n",
              "    }\n",
              "\n",
              "    .dataframe thead th {\n",
              "        text-align: right;\n",
              "    }\n",
              "</style>\n",
              "<table border=\"1\" class=\"dataframe\">\n",
              "  <thead>\n",
              "    <tr style=\"text-align: right;\">\n",
              "      <th></th>\n",
              "      <th>0</th>\n",
              "      <th>1</th>\n",
              "      <th>2</th>\n",
              "      <th>3</th>\n",
              "      <th>4</th>\n",
              "      <th>5</th>\n",
              "      <th>6</th>\n",
              "      <th>7</th>\n",
              "    </tr>\n",
              "  </thead>\n",
              "  <tbody>\n",
              "    <tr>\n",
              "      <th>-159.545645</th>\n",
              "      <td>-0.744387</td>\n",
              "      <td>-0.394079</td>\n",
              "      <td>-0.707782</td>\n",
              "      <td>-0.319029</td>\n",
              "      <td>0.267762</td>\n",
              "      <td>-0.478694</td>\n",
              "      <td>-0.380659</td>\n",
              "      <td>0.307383</td>\n",
              "    </tr>\n",
              "    <tr>\n",
              "      <th>-20.953029</th>\n",
              "      <td>0.346482</td>\n",
              "      <td>-0.582494</td>\n",
              "      <td>-0.303334</td>\n",
              "      <td>1.156329</td>\n",
              "      <td>-0.853881</td>\n",
              "      <td>0.032758</td>\n",
              "      <td>-0.072620</td>\n",
              "      <td>0.064841</td>\n",
              "    </tr>\n",
              "    <tr>\n",
              "      <th>-53.315416</th>\n",
              "      <td>0.001055</td>\n",
              "      <td>-0.859827</td>\n",
              "      <td>-2.026206</td>\n",
              "      <td>1.458773</td>\n",
              "      <td>0.539138</td>\n",
              "      <td>-1.089535</td>\n",
              "      <td>1.648551</td>\n",
              "      <td>-0.437908</td>\n",
              "    </tr>\n",
              "    <tr>\n",
              "      <th>265.172028</th>\n",
              "      <td>-0.074497</td>\n",
              "      <td>-0.572602</td>\n",
              "      <td>2.384405</td>\n",
              "      <td>-0.026964</td>\n",
              "      <td>1.861565</td>\n",
              "      <td>-1.618318</td>\n",
              "      <td>2.134552</td>\n",
              "      <td>-1.649750</td>\n",
              "    </tr>\n",
              "    <tr>\n",
              "      <th>-353.390003</th>\n",
              "      <td>-0.212508</td>\n",
              "      <td>-1.068460</td>\n",
              "      <td>-0.683713</td>\n",
              "      <td>0.316530</td>\n",
              "      <td>-0.407013</td>\n",
              "      <td>-1.168142</td>\n",
              "      <td>-0.058339</td>\n",
              "      <td>-2.844938</td>\n",
              "    </tr>\n",
              "  </tbody>\n",
              "</table>\n",
              "</div>"
            ],
            "text/plain": [
              "                    0         1         2  ...         5         6         7\n",
              "-159.545645 -0.744387 -0.394079 -0.707782  ... -0.478694 -0.380659  0.307383\n",
              "-20.953029   0.346482 -0.582494 -0.303334  ...  0.032758 -0.072620  0.064841\n",
              "-53.315416   0.001055 -0.859827 -2.026206  ... -1.089535  1.648551 -0.437908\n",
              " 265.172028 -0.074497 -0.572602  2.384405  ... -1.618318  2.134552 -1.649750\n",
              "-353.390003 -0.212508 -1.068460 -0.683713  ... -1.168142 -0.058339 -2.844938\n",
              "\n",
              "[5 rows x 8 columns]"
            ]
          },
          "metadata": {
            "tags": []
          },
          "execution_count": 42
        }
      ]
    },
    {
      "cell_type": "code",
      "metadata": {
        "id": "hBMdYPCTaAeR",
        "colab_type": "code",
        "colab": {
          "base_uri": "https://localhost:8080/",
          "height": 224
        },
        "outputId": "329c925d-f906-4149-bed2-13cfe1314109"
      },
      "source": [
        "column_names = {0:'Relative_Compactness', 1: 'Surface_Area', 2: 'Wall_Area', 3: 'Roof_Area', 4: 'Overall_Height', 5: 'Orientation', 6: 'Glazing_Area', 7: 'Glazing_Area_Distribution'}\n",
        "df5 = df5.rename(columns=column_names) \n",
        "df5.head() "
      ],
      "execution_count": 43,
      "outputs": [
        {
          "output_type": "execute_result",
          "data": {
            "text/html": [
              "<div>\n",
              "<style scoped>\n",
              "    .dataframe tbody tr th:only-of-type {\n",
              "        vertical-align: middle;\n",
              "    }\n",
              "\n",
              "    .dataframe tbody tr th {\n",
              "        vertical-align: top;\n",
              "    }\n",
              "\n",
              "    .dataframe thead th {\n",
              "        text-align: right;\n",
              "    }\n",
              "</style>\n",
              "<table border=\"1\" class=\"dataframe\">\n",
              "  <thead>\n",
              "    <tr style=\"text-align: right;\">\n",
              "      <th></th>\n",
              "      <th>Relative_Compactness</th>\n",
              "      <th>Surface_Area</th>\n",
              "      <th>Wall_Area</th>\n",
              "      <th>Roof_Area</th>\n",
              "      <th>Overall_Height</th>\n",
              "      <th>Orientation</th>\n",
              "      <th>Glazing_Area</th>\n",
              "      <th>Glazing_Area_Distribution</th>\n",
              "    </tr>\n",
              "  </thead>\n",
              "  <tbody>\n",
              "    <tr>\n",
              "      <th>-159.545645</th>\n",
              "      <td>-0.744387</td>\n",
              "      <td>-0.394079</td>\n",
              "      <td>-0.707782</td>\n",
              "      <td>-0.319029</td>\n",
              "      <td>0.267762</td>\n",
              "      <td>-0.478694</td>\n",
              "      <td>-0.380659</td>\n",
              "      <td>0.307383</td>\n",
              "    </tr>\n",
              "    <tr>\n",
              "      <th>-20.953029</th>\n",
              "      <td>0.346482</td>\n",
              "      <td>-0.582494</td>\n",
              "      <td>-0.303334</td>\n",
              "      <td>1.156329</td>\n",
              "      <td>-0.853881</td>\n",
              "      <td>0.032758</td>\n",
              "      <td>-0.072620</td>\n",
              "      <td>0.064841</td>\n",
              "    </tr>\n",
              "    <tr>\n",
              "      <th>-53.315416</th>\n",
              "      <td>0.001055</td>\n",
              "      <td>-0.859827</td>\n",
              "      <td>-2.026206</td>\n",
              "      <td>1.458773</td>\n",
              "      <td>0.539138</td>\n",
              "      <td>-1.089535</td>\n",
              "      <td>1.648551</td>\n",
              "      <td>-0.437908</td>\n",
              "    </tr>\n",
              "    <tr>\n",
              "      <th>265.172028</th>\n",
              "      <td>-0.074497</td>\n",
              "      <td>-0.572602</td>\n",
              "      <td>2.384405</td>\n",
              "      <td>-0.026964</td>\n",
              "      <td>1.861565</td>\n",
              "      <td>-1.618318</td>\n",
              "      <td>2.134552</td>\n",
              "      <td>-1.649750</td>\n",
              "    </tr>\n",
              "    <tr>\n",
              "      <th>-353.390003</th>\n",
              "      <td>-0.212508</td>\n",
              "      <td>-1.068460</td>\n",
              "      <td>-0.683713</td>\n",
              "      <td>0.316530</td>\n",
              "      <td>-0.407013</td>\n",
              "      <td>-1.168142</td>\n",
              "      <td>-0.058339</td>\n",
              "      <td>-2.844938</td>\n",
              "    </tr>\n",
              "  </tbody>\n",
              "</table>\n",
              "</div>"
            ],
            "text/plain": [
              "             Relative_Compactness  ...  Glazing_Area_Distribution\n",
              "-159.545645             -0.744387  ...                   0.307383\n",
              "-20.953029               0.346482  ...                   0.064841\n",
              "-53.315416               0.001055  ...                  -0.437908\n",
              " 265.172028             -0.074497  ...                  -1.649750\n",
              "-353.390003             -0.212508  ...                  -2.844938\n",
              "\n",
              "[5 rows x 8 columns]"
            ]
          },
          "metadata": {
            "tags": []
          },
          "execution_count": 43
        }
      ]
    },
    {
      "cell_type": "code",
      "metadata": {
        "id": "Rlz4uV6ra_ig",
        "colab_type": "code",
        "colab": {
          "base_uri": "https://localhost:8080/",
          "height": 297
        },
        "outputId": "c8bc7db0-62e6-4507-fa11-5b8dd719eee6"
      },
      "source": [
        "sns.regplot(x= \"Relative_Compactness\", y=\"Heating_Load\", \n",
        "            data=simple_linear_reg_df)"
      ],
      "execution_count": 49,
      "outputs": [
        {
          "output_type": "execute_result",
          "data": {
            "text/plain": [
              "<matplotlib.axes._subplots.AxesSubplot at 0x7f27d47e6320>"
            ]
          },
          "metadata": {
            "tags": []
          },
          "execution_count": 49
        },
        {
          "output_type": "display_data",
          "data": {
            "image/png": "[encoded data removed]",
            "text/plain": [
              "<Figure size 432x288 with 1 Axes>"
            ]
          },
          "metadata": {
            "tags": [],
            "needs_background": "light"
          }
        }
      ]
    },
    {
      "cell_type": "code",
      "metadata": {
        "id": "0akbXa-9bdyA",
        "colab_type": "code",
        "colab": {}
      },
      "source": [
        "from sklearn.model_selection import train_test_split # to split the data \n",
        "from sklearn.linear_model import LinearRegression "
      ],
      "execution_count": 53,
      "outputs": []
    },
    {
      "cell_type": "code",
      "metadata": {
        "id": "V1MYlCk1bxZW",
        "colab_type": "code",
        "colab": {}
      },
      "source": [
        "X =  df[['Relative_Compactness']] #chosen predictor \n",
        "y=  df[['Heating_Load']] "
      ],
      "execution_count": 55,
      "outputs": []
    },
    {
      "cell_type": "code",
      "metadata": {
        "id": "oVmc5o4Nb2zz",
        "colab_type": "code",
        "colab": {}
      },
      "source": [
        "X_train,X_test,y_train,y_test = train_test_split(X,y,test_size=0.33,random_state=1) \n",
        "lR = LinearRegression().fit(X_train, y_train) \n",
        "lR_pred= lR.predict(X_test) # the predicted vriable\n"
      ],
      "execution_count": 56,
      "outputs": []
    },
    {
      "cell_type": "code",
      "metadata": {
        "id": "_meEWo7RcE6Y",
        "colab_type": "code",
        "colab": {
          "base_uri": "https://localhost:8080/",
          "height": 296
        },
        "outputId": "90bdc153-6fcb-49b5-a175-393b4b5c5885"
      },
      "source": [
        "sns.regplot(x= y_test,y=lR_pred,color='blue') \n",
        "plt.xlabel(\"True Values\") \n",
        "plt.ylabel(\"Predicted Values\")"
      ],
      "execution_count": 57,
      "outputs": [
        {
          "output_type": "execute_result",
          "data": {
            "text/plain": [
              "Text(0, 0.5, 'Predicted Values')"
            ]
          },
          "metadata": {
            "tags": []
          },
          "execution_count": 57
        },
        {
          "output_type": "display_data",
          "data": {
            "image/png": "[encoded data removed]",
            "text/plain": [
              "<Figure size 432x288 with 1 Axes>"
            ]
          },
          "metadata": {
            "tags": [],
            "needs_background": "light"
          }
        }
      ]
    },
    {
      "cell_type": "code",
      "metadata": {
        "id": "-iOzCIpa2_Om",
        "colab_type": "code",
        "colab": {
          "base_uri": "https://localhost:8080/",
          "height": 296
        },
        "outputId": "835c8688-08f9-4f19-defb-dfe45c80bc66"
      },
      "source": [
        "sns.regplot(x= y_test,y=lR_pred,color='red') \n",
        "plt.xlabel(\"True Values\") \n",
        "plt.ylabel(\"Predicted Values\")"
      ],
      "execution_count": 62,
      "outputs": [
        {
          "output_type": "execute_result",
          "data": {
            "text/plain": [
              "Text(0, 0.5, 'Predicted Values')"
            ]
          },
          "metadata": {
            "tags": []
          },
          "execution_count": 62
        },
        {
          "output_type": "display_data",
          "data": {
            "image/png": "[encoded data removed]",
            "text/plain": [
              "<Figure size 432x288 with 1 Axes>"
            ]
          },
          "metadata": {
            "tags": [],
            "needs_background": "light"
          }
        }
      ]
    },
    {
      "cell_type": "code",
      "metadata": {
        "id": "utCd0pOb3Eza",
        "colab_type": "code",
        "colab": {}
      },
      "source": [
        "Xc =  df5[['Relative_Compactness']] \n",
        "X_train1,X_test1,y_train1,y_test1 = train_test_split(Xc,yb,test_size=0.33,random_state=1)\n",
        "lRD = LinearRegression().fit(X_train1, y_train1)\n",
        "lRD_pred= lRD.predict(X_test1)"
      ],
      "execution_count": 63,
      "outputs": []
    },
    {
      "cell_type": "code",
      "metadata": {
        "id": "_axYVWxC32E0",
        "colab_type": "code",
        "colab": {
          "base_uri": "https://localhost:8080/",
          "height": 296
        },
        "outputId": "1b80b30c-eab8-45f6-9bb5-0d780eed9733"
      },
      "source": [
        "sns.regplot(x= y_test1,y=lRD_pred,color='red')\n",
        "plt.xlabel(\"Dummy True Values\")\n",
        "plt.ylabel(\"Dummy Predicted Values\") "
      ],
      "execution_count": 64,
      "outputs": [
        {
          "output_type": "execute_result",
          "data": {
            "text/plain": [
              "Text(0, 0.5, 'Dummy Predicted Values')"
            ]
          },
          "metadata": {
            "tags": []
          },
          "execution_count": 64
        },
        {
          "output_type": "display_data",
          "data": {
            "image/png": "[encoded data removed]",
            "text/plain": [
              "<Figure size 432x288 with 1 Axes>"
            ]
          },
          "metadata": {
            "tags": [],
            "needs_background": "light"
          }
        }
      ]
    },
    {
      "cell_type": "code",
      "metadata": {
        "id": "QvlCiuyK4dJx",
        "colab_type": "code",
        "colab": {
          "base_uri": "https://localhost:8080/",
          "height": 297
        },
        "outputId": "80ef4211-7db9-491b-eea8-9b43c5aef461"
      },
      "source": [
        "sns.residplot(x=X, y=y,color=\"red\", \n",
        "data=df)"
      ],
      "execution_count": 65,
      "outputs": [
        {
          "output_type": "execute_result",
          "data": {
            "text/plain": [
              "<matplotlib.axes._subplots.AxesSubplot at 0x7f27d4158908>"
            ]
          },
          "metadata": {
            "tags": []
          },
          "execution_count": 65
        },
        {
          "output_type": "display_data",
          "data": {
            "image/png": "[encoded data removed]",
            "text/plain": [
              "<Figure size 432x288 with 1 Axes>"
            ]
          },
          "metadata": {
            "tags": [],
            "needs_background": "light"
          }
        }
      ]
    },
    {
      "cell_type": "code",
      "metadata": {
        "id": "9-sp6Up75CJW",
        "colab_type": "code",
        "colab": {
          "base_uri": "https://localhost:8080/",
          "height": 297
        },
        "outputId": "9bd1ea4c-5b89-488f-c7fb-da56d52ee0ed"
      },
      "source": [
        "sns.residplot(x=Xc, y=yb,color=\"red\", \n",
        "data=df)"
      ],
      "execution_count": 66,
      "outputs": [
        {
          "output_type": "execute_result",
          "data": {
            "text/plain": [
              "<matplotlib.axes._subplots.AxesSubplot at 0x7f27d413eba8>"
            ]
          },
          "metadata": {
            "tags": []
          },
          "execution_count": 66
        },
        {
          "output_type": "display_data",
          "data": {
            "image/png": "[encoded data removed]",
            "text/plain": [
              "<Figure size 432x288 with 1 Axes>"
            ]
          },
          "metadata": {
            "tags": [],
            "needs_background": "light"
          }
        }
      ]
    },
    {
      "cell_type": "code",
      "metadata": {
        "id": "XLZi6LNO5T52",
        "colab_type": "code",
        "colab": {}
      },
      "source": [
        "d= np.floor(y_test) \n",
        "stuff=pd.DataFrame(d) \n",
        "e= np.floor(lR_pred) \n",
        "stuff2=pd.DataFrame(e) \n",
        "stuff.reset_index(drop=True,inplace=True) \n",
        "f=stuff[\"Heating_Load\"]-stuff2[0]"
      ],
      "execution_count": 69,
      "outputs": []
    },
    {
      "cell_type": "code",
      "metadata": {
        "id": "LhdWrSud5Um7",
        "colab_type": "code",
        "colab": {
          "base_uri": "https://localhost:8080/",
          "height": 282
        },
        "outputId": "477e9113-abf6-4217-f405-8cfa1a9b7813"
      },
      "source": [
        "sns.distplot(f)"
      ],
      "execution_count": 70,
      "outputs": [
        {
          "output_type": "execute_result",
          "data": {
            "text/plain": [
              "<matplotlib.axes._subplots.AxesSubplot at 0x7f27d4246b70>"
            ]
          },
          "metadata": {
            "tags": []
          },
          "execution_count": 70
        },
        {
          "output_type": "display_data",
          "data": {
            "image/png": "[encoded data removed]",
            "text/plain": [
              "<Figure size 432x288 with 1 Axes>"
            ]
          },
          "metadata": {
            "tags": [],
            "needs_background": "light"
          }
        }
      ]
    },
    {
      "cell_type": "code",
      "metadata": {
        "id": "_RuPi-1r5Uig",
        "colab_type": "code",
        "colab": {}
      },
      "source": [
        "h= np.floor(y_test1) \n",
        "buff=pd.DataFrame(h) \n",
        "i= np.floor(lRD_pred) \n",
        "buff2=pd.DataFrame(i) \n",
        "buff.reset_index(drop=True,inplace=True) \n",
        "j=buff[0]-buff2[0]"
      ],
      "execution_count": 72,
      "outputs": []
    },
    {
      "cell_type": "code",
      "metadata": {
        "id": "hOXpwGQ15UeE",
        "colab_type": "code",
        "colab": {
          "base_uri": "https://localhost:8080/",
          "height": 296
        },
        "outputId": "8ea1a36f-3773-496a-8bfb-b4c1c69c1f5e"
      },
      "source": [
        "sns.distplot(j) #sns.distplot(j,kde_kws={'bw':1.5},hist=False)"
      ],
      "execution_count": 73,
      "outputs": [
        {
          "output_type": "execute_result",
          "data": {
            "text/plain": [
              "<matplotlib.axes._subplots.AxesSubplot at 0x7f27d8636828>"
            ]
          },
          "metadata": {
            "tags": []
          },
          "execution_count": 73
        },
        {
          "output_type": "display_data",
          "data": {
            "image/png": "[encoded data removed]",
            "text/plain": [
              "<Figure size 432x288 with 1 Axes>"
            ]
          },
          "metadata": {
            "tags": [],
            "needs_background": "light"
          }
        }
      ]
    },
    {
      "cell_type": "code",
      "metadata": {
        "id": "xFuYwqLj5UZw",
        "colab_type": "code",
        "colab": {
          "base_uri": "https://localhost:8080/",
          "height": 405
        },
        "outputId": "153e6647-fa87-4061-cb2c-0e827825141a"
      },
      "source": [
        "dfa=df.drop([\"Cooling_Load\",\"Heating_Load\"],axis=1) #removing the target variable so observe \n",
        "#the relationship between predictors \n",
        "sns.heatmap(dfa.corr(),annot=True)"
      ],
      "execution_count": 74,
      "outputs": [
        {
          "output_type": "execute_result",
          "data": {
            "text/plain": [
              "<matplotlib.axes._subplots.AxesSubplot at 0x7f27d2dee550>"
            ]
          },
          "metadata": {
            "tags": []
          },
          "execution_count": 74
        },
        {
          "output_type": "display_data",
          "data": {
            "image/png": "[encoded data removed]",
            "text/plain": [
              "<Figure size 432x288 with 2 Axes>"
            ]
          },
          "metadata": {
            "tags": [],
            "needs_background": "light"
          }
        }
      ]
    },
    {
      "cell_type": "code",
      "metadata": {
        "id": "pekhsir25UVZ",
        "colab_type": "code",
        "colab": {
          "base_uri": "https://localhost:8080/",
          "height": 405
        },
        "outputId": "0a5afdee-d2d8-401e-a5d7-df91e8808484"
      },
      "source": [
        "sns.heatmap(df5.corr(),annot=True)"
      ],
      "execution_count": 75,
      "outputs": [
        {
          "output_type": "execute_result",
          "data": {
            "text/plain": [
              "<matplotlib.axes._subplots.AxesSubplot at 0x7f27d04a6860>"
            ]
          },
          "metadata": {
            "tags": []
          },
          "execution_count": 75
        },
        {
          "output_type": "display_data",
          "data": {
            "image/png": "[encoded data removed]",
            "text/plain": [
              "<Figure size 432x288 with 2 Axes>"
            ]
          },
          "metadata": {
            "tags": [],
            "needs_background": "light"
          }
        }
      ]
    },
    {
      "cell_type": "code",
      "metadata": {
        "id": "siWQ7zi0cUee",
        "colab_type": "code",
        "colab": {}
      },
      "source": [
        "from sklearn.preprocessing import MinMaxScaler \n",
        "scaler = MinMaxScaler() \n",
        "normalised_df = pd.DataFrame(scaler.fit_transform(df), columns=df.columns) \n",
        "features_df = normalised_df.drop(columns=['Heating_Load', 'Cooling_Load'])\n",
        "heating_target = normalised_df['Heating_Load'] "
      ],
      "execution_count": 77,
      "outputs": []
    },
    {
      "cell_type": "code",
      "metadata": {
        "id": "bvKrbWp-yDv6",
        "colab_type": "code",
        "colab": {}
      },
      "source": [
        "from sklearn.model_selection import train_test_split \n",
        "x_train, x_test, y_train, y_tests = train_test_split(features_df, heating_target, \n",
        "test_size=0.3, random_state=1) \n",
        "linear_model = LinearRegression()"
      ],
      "execution_count": 78,
      "outputs": []
    },
    {
      "cell_type": "code",
      "metadata": {
        "id": "Cut6TShZzDFU",
        "colab_type": "code",
        "colab": {}
      },
      "source": [
        "linear_model.fit(x_train, y_train) #obtain predictions \n",
        "predicted_values = linear_model.predict(x_test)"
      ],
      "execution_count": 82,
      "outputs": []
    },
    {
      "cell_type": "code",
      "metadata": {
        "id": "X0JVVJfGzOpn",
        "colab_type": "code",
        "colab": {
          "base_uri": "https://localhost:8080/",
          "height": 34
        },
        "outputId": "03a36f49-0b4d-403f-9517-67baea50aded"
      },
      "source": [
        "from sklearn.metrics import mean_absolute_error \n",
        "mae = mean_absolute_error(y_tests, predicted_values) \n",
        "round(mae, 3)"
      ],
      "execution_count": 84,
      "outputs": [
        {
          "output_type": "execute_result",
          "data": {
            "text/plain": [
              "0.063"
            ]
          },
          "metadata": {
            "tags": []
          },
          "execution_count": 84
        }
      ]
    },
    {
      "cell_type": "code",
      "metadata": {
        "id": "UDfb2DE1canj",
        "colab_type": "code",
        "colab": {
          "base_uri": "https://localhost:8080/",
          "height": 34
        },
        "outputId": "dea7e321-b308-4629-8835-09b7a0bdb6f4"
      },
      "source": [
        "import numpy as np \n",
        "y_test6=np.array(y_tests) \n",
        "predicted_values6= np.array(predicted_values) \n",
        "rss = np.sum(np.square(y_test6-predicted_values6)) \n",
        "round(rss,3)\n"
      ],
      "execution_count": 85,
      "outputs": [
        {
          "output_type": "execute_result",
          "data": {
            "text/plain": [
              "1.823"
            ]
          },
          "metadata": {
            "tags": []
          },
          "execution_count": 85
        }
      ]
    },
    {
      "cell_type": "code",
      "metadata": {
        "id": "w7INRZTicusW",
        "colab_type": "code",
        "colab": {
          "base_uri": "https://localhost:8080/",
          "height": 34
        },
        "outputId": "2ddcb989-6f22-4e80-c1fa-e122636c0e12"
      },
      "source": [
        "from sklearn.metrics import mean_squared_error \n",
        "rmse = np.sqrt(mean_squared_error(y_tests, predicted_values)) \n",
        "round(rmse, 3)"
      ],
      "execution_count": 88,
      "outputs": [
        {
          "output_type": "execute_result",
          "data": {
            "text/plain": [
              "0.089"
            ]
          },
          "metadata": {
            "tags": []
          },
          "execution_count": 88
        }
      ]
    },
    {
      "cell_type": "code",
      "metadata": {
        "id": "3hWRfa02cxwl",
        "colab_type": "code",
        "colab": {
          "base_uri": "https://localhost:8080/",
          "height": 34
        },
        "outputId": "2c6abd7d-2db9-4e40-b87f-c086441c5dd1"
      },
      "source": [
        "from sklearn.metrics import r2_score \n",
        "r2_score = r2_score(y_tests, predicted_values) \n",
        "round(r2_score, 3)"
      ],
      "execution_count": 89,
      "outputs": [
        {
          "output_type": "execute_result",
          "data": {
            "text/plain": [
              "0.893"
            ]
          },
          "metadata": {
            "tags": []
          },
          "execution_count": 89
        }
      ]
    },
    {
      "cell_type": "code",
      "metadata": {
        "id": "E2CZNprlc64k",
        "colab_type": "code",
        "colab": {}
      },
      "source": [
        "dfv=df \n",
        "dfv[\"interaction\"] =dfv[\"Overall_Height\"]*dfv[\"Relative_Compactness\"]"
      ],
      "execution_count": 90,
      "outputs": []
    },
    {
      "cell_type": "code",
      "metadata": {
        "id": "yIvyfHdTdNp7",
        "colab_type": "code",
        "colab": {}
      },
      "source": [
        "from sklearn.preprocessing import MinMaxScaler \n",
        "scaler = MinMaxScaler() \n",
        "normalised_dfv = pd.DataFrame(scaler.fit_transform(dfv), columns=dfv.columns) \n",
        "features_dfv = normalised_dfv.drop(columns=['Heating_Load', 'Cooling_Load']) \n",
        "heating_target = normalised_dfv['Heating_Load']"
      ],
      "execution_count": 91,
      "outputs": []
    },
    {
      "cell_type": "code",
      "metadata": {
        "id": "BrSfJIUGdafX",
        "colab_type": "code",
        "colab": {}
      },
      "source": [
        "from sklearn.model_selection import train_test_split \n",
        "x_train, x_test, y_train, y_tests = train_test_split(features_dfv, heating_target, \n",
        "                                                     test_size=0.3, random_state=1) \n",
        "linear_model = LinearRegression() #fit the model to the training dataset \n",
        "linear_model.fit(x_train, y_train) #obtain predictions \n",
        "predicted_values = linear_model.predict(x_test) \n"
      ],
      "execution_count": 93,
      "outputs": []
    },
    {
      "cell_type": "code",
      "metadata": {
        "id": "8FBZ-6TDdlGs",
        "colab_type": "code",
        "colab": {
          "base_uri": "https://localhost:8080/",
          "height": 34
        },
        "outputId": "e77f2c7e-0700-416d-e606-aa800f96ceb9"
      },
      "source": [
        "from sklearn.metrics import mean_squared_error\n",
        "rmse = np.sqrt(mean_squared_error(y_tests, predicted_values)) \n",
        "round(rmse, 3) "
      ],
      "execution_count": 94,
      "outputs": [
        {
          "output_type": "execute_result",
          "data": {
            "text/plain": [
              "0.084"
            ]
          },
          "metadata": {
            "tags": []
          },
          "execution_count": 94
        }
      ]
    },
    {
      "cell_type": "code",
      "metadata": {
        "id": "J0DsBj6cd2Ts",
        "colab_type": "code",
        "colab": {
          "base_uri": "https://localhost:8080/",
          "height": 51
        },
        "outputId": "852a1217-c34e-406d-9b34-c5a4ee872b33"
      },
      "source": [
        "from sklearn.linear_model import Ridge \n",
        "ridge_reg = Ridge(alpha=0.5) \n",
        "ridge_reg.fit(x_train, y_train)"
      ],
      "execution_count": 95,
      "outputs": [
        {
          "output_type": "execute_result",
          "data": {
            "text/plain": [
              "Ridge(alpha=0.5, copy_X=True, fit_intercept=True, max_iter=None,\n",
              "      normalize=False, random_state=None, solver='auto', tol=0.001)"
            ]
          },
          "metadata": {
            "tags": []
          },
          "execution_count": 95
        }
      ]
    },
    {
      "cell_type": "code",
      "metadata": {
        "id": "XhJNNnCQd5Tw",
        "colab_type": "code",
        "colab": {
          "base_uri": "https://localhost:8080/",
          "height": 68
        },
        "outputId": "f4175e11-9558-4ef8-99b0-543cae41ca0a"
      },
      "source": [
        "from sklearn.linear_model import Lasso \n",
        "lasso_reg = Lasso(alpha=0.001) \n",
        "lasso_reg.fit(x_train, y_train)"
      ],
      "execution_count": 98,
      "outputs": [
        {
          "output_type": "execute_result",
          "data": {
            "text/plain": [
              "Lasso(alpha=0.001, copy_X=True, fit_intercept=True, max_iter=1000,\n",
              "      normalize=False, positive=False, precompute=False, random_state=None,\n",
              "      selection='cyclic', tol=0.0001, warm_start=False)"
            ]
          },
          "metadata": {
            "tags": []
          },
          "execution_count": 98
        }
      ]
    },
    {
      "cell_type": "code",
      "metadata": {
        "id": "f4d9HXMleQIG",
        "colab_type": "code",
        "colab": {
          "base_uri": "https://localhost:8080/",
          "height": 122
        },
        "outputId": "e0a65283-99d9-4278-d4ab-079d1c344d8e"
      },
      "source": [
        "from sklearn.linear_model import ElasticNet \n",
        "regr = ElasticNet(alpha=0.0001) \n",
        "regr.fit(x_train, y_train)"
      ],
      "execution_count": 99,
      "outputs": [
        {
          "output_type": "stream",
          "text": [
            "/usr/local/lib/python3.6/dist-packages/sklearn/linear_model/_coordinate_descent.py:476: ConvergenceWarning: Objective did not converge. You might want to increase the number of iterations. Duality gap: 0.09548138238157744, tolerance: 0.003944969110754326\n",
            "  positive)\n"
          ],
          "name": "stderr"
        },
        {
          "output_type": "execute_result",
          "data": {
            "text/plain": [
              "ElasticNet(alpha=0.0001, copy_X=True, fit_intercept=True, l1_ratio=0.5,\n",
              "           max_iter=1000, normalize=False, positive=False, precompute=False,\n",
              "           random_state=None, selection='cyclic', tol=0.0001, warm_start=False)"
            ]
          },
          "metadata": {
            "tags": []
          },
          "execution_count": 99
        }
      ]
    },
    {
      "cell_type": "code",
      "metadata": {
        "id": "A2GLs_q7-n3l",
        "colab_type": "code",
        "colab": {
          "base_uri": "https://localhost:8080/",
          "height": 129
        },
        "outputId": "dc544c72-855d-4ee0-893b-7bc2c12d18e5"
      },
      "source": [
        "#comparing the effects of regularisation \n",
        "def get_weights_df(model, feat, col_name): \n",
        "  weights = pd.Series(model.coef_, feat.columns) .sort_values()\n",
        "   weights_df = pd.DataFrame(weights) .reset_index()    \n",
        "weights_df.columns = ['Features', col_name]    \n",
        "weights_df[col_name].round(3)    \n",
        "return weights_df \n",
        "linear_model_weights = get_weights_df(linear_model, x_train, 'Linear_Model_Weight') \n",
        "ridge_weights_df = get_weights_df(ridge_reg, x_train, 'Ridge_Weight') \n",
        "lasso_weights_df = get_weights_df(lasso_reg, x_train, 'Lasso_weight') \n",
        "elastic_weights_df = get_weights_df(regr, x_train, 'elastic_weight') \n",
        "final_weights = pd.merge(linear_model_weights, ridge_weights_df, on='Features') \n",
        "final_weights = pd.merge(final_weights, lasso_weights_df, on='Features') \n",
        "final_weights = pd.merge(final_weights, elastic_weights_df, on='Features')\n",
        "\n",
        "final_weights"
      ],
      "execution_count": 117,
      "outputs": [
        {
          "output_type": "error",
          "ename": "IndentationError",
          "evalue": "ignored",
          "traceback": [
            "\u001b[0;36m  File \u001b[0;32m\"<ipython-input-117-9a397e954938>\"\u001b[0;36m, line \u001b[0;32m4\u001b[0m\n\u001b[0;31m    weights_df = pd.DataFrame(weights) .reset_index()\u001b[0m\n\u001b[0m    ^\u001b[0m\n\u001b[0;31mIndentationError\u001b[0m\u001b[0;31m:\u001b[0m unexpected indent\n"
          ]
        }
      ]
    },
    {
      "cell_type": "code",
      "metadata": {
        "id": "zD_pcCpnAQFi",
        "colab_type": "code",
        "colab": {
          "base_uri": "https://localhost:8080/",
          "height": 129
        },
        "outputId": "271cbbd0-5f37-4ca6-fae0-5c0c0aee8daf"
      },
      "source": [
        "from sklearn.model_selection import GridSearchCV \n",
        "from sklearn.linear_model import ElasticNet # find optimal alpha with grid search \n",
        "alpha = [0.0001, 0.00015, 0.00016, 0.0002, 0.001, 0.003] #I selectected a range of values to form a grid to search\n",
        " # i did not want to be adventurerous because I already know the answer from the previous lesson \n",
        " l1_ratio = [0, 0.1, 0.2, 0.3, 0.4, 0.5, 0.6, 0.7, 0.8, 0.9, 1]  \n",
        " param_grid = dict(alpha=alpha, l1_ratio=l1_ratio) \n",
        " grid = GridSearchCV(estimator=ElasticNet(max_iter=100000), param_grid=param_grid, scoring='r2', verbose=1, n_jobs= \n",
        "                     grid_result = grid.fit(x_train, y_train) \n",
        "                     print('Best Score: ', grid_result.best_score_)\n",
        "                     \n",
        "                      print('Best Params: ', grid_result.best_params_)"
      ],
      "execution_count": 118,
      "outputs": [
        {
          "output_type": "error",
          "ename": "IndentationError",
          "evalue": "ignored",
          "traceback": [
            "\u001b[0;36m  File \u001b[0;32m\"<ipython-input-118-e7a7392d5386>\"\u001b[0;36m, line \u001b[0;32m5\u001b[0m\n\u001b[0;31m    l1_ratio = [0, 0.1, 0.2, 0.3, 0.4, 0.5, 0.6, 0.7, 0.8, 0.9, 1]\u001b[0m\n\u001b[0m    ^\u001b[0m\n\u001b[0;31mIndentationError\u001b[0m\u001b[0;31m:\u001b[0m unexpected indent\n"
          ]
        }
      ]
    },
    {
      "cell_type": "code",
      "metadata": {
        "id": "sUb01wnNA93Y",
        "colab_type": "code",
        "colab": {
          "base_uri": "https://localhost:8080/",
          "height": 275
        },
        "outputId": "05fa842d-d792-4fed-f6a6-0f137c7206bd"
      },
      "source": [
        "from sklearn.model_selection import RandomizedSearchCV \n",
        "l1_ratio = [0, 0.1, 0.2, 0.3, 0.4, 0.5, 0.6, 0.7, 0.8, 0.9, 1] \n",
        "alpha = [0.0001, 0.003, 0.00015, 0.00016, 0.0002, 0.001, 0.003] #searches values randomly among these max_iter=10000 \n",
        "param_distributions = dict(l1_ratio=l1_ratio,alpha=alpha) \n",
        "utility = RandomizedSearchCV(estimator=ElasticNet(max_iter=100000),                           \n",
        "                             param_distributions=param_distributions,random_state=0) \n",
        "result = utility.fit(x_train, y_train) \n",
        "print('Best Score: ', result.best_score_) \n",
        "print('Best Params: ', result.best_params_)"
      ],
      "execution_count": 103,
      "outputs": [
        {
          "output_type": "stream",
          "text": [
            "/usr/local/lib/python3.6/dist-packages/sklearn/linear_model/_coordinate_descent.py:476: ConvergenceWarning: Objective did not converge. You might want to increase the number of iterations. Duality gap: 1.207520757829481, tolerance: 0.0031462708831570254\n",
            "  positive)\n",
            "/usr/local/lib/python3.6/dist-packages/sklearn/linear_model/_coordinate_descent.py:476: ConvergenceWarning: Objective did not converge. You might want to increase the number of iterations. Duality gap: 1.17356193979055, tolerance: 0.0032101700982193095\n",
            "  positive)\n",
            "/usr/local/lib/python3.6/dist-packages/sklearn/linear_model/_coordinate_descent.py:476: ConvergenceWarning: Objective did not converge. You might want to increase the number of iterations. Duality gap: 1.2203275475430404, tolerance: 0.0031758795041326245\n",
            "  positive)\n",
            "/usr/local/lib/python3.6/dist-packages/sklearn/linear_model/_coordinate_descent.py:476: ConvergenceWarning: Objective did not converge. You might want to increase the number of iterations. Duality gap: 1.1115347801179432, tolerance: 0.0030528495753739324\n",
            "  positive)\n",
            "/usr/local/lib/python3.6/dist-packages/sklearn/linear_model/_coordinate_descent.py:476: ConvergenceWarning: Objective did not converge. You might want to increase the number of iterations. Duality gap: 1.1949481340609538, tolerance: 0.0031919373341281008\n",
            "  positive)\n"
          ],
          "name": "stderr"
        },
        {
          "output_type": "stream",
          "text": [
            "Best Score:  0.9234579348913735\n",
            "Best Params:  {'l1_ratio': 0, 'alpha': 0.00016}\n"
          ],
          "name": "stdout"
        },
        {
          "output_type": "stream",
          "text": [
            "/usr/local/lib/python3.6/dist-packages/sklearn/linear_model/_coordinate_descent.py:476: ConvergenceWarning: Objective did not converge. You might want to increase the number of iterations. Duality gap: 1.483156346140629, tolerance: 0.003944969110754326\n",
            "  positive)\n"
          ],
          "name": "stderr"
        }
      ]
    },
    {
      "cell_type": "code",
      "metadata": {
        "id": "kvWDXMCdBKgx",
        "colab_type": "code",
        "colab": {}
      },
      "source": [
        ""
      ],
      "execution_count": null,
      "outputs": []
    }
  ]
}